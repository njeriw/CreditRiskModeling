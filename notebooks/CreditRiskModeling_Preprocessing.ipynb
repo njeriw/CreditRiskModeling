{
 "cells": [
  {
   "cell_type": "markdown",
   "id": "612d0990-52aa-4317-942e-5426275cdd6b",
   "metadata": {},
   "source": [
    "# Credit Risk Modeling: Preprocessing "
   ]
  },
  {
   "cell_type": "code",
   "execution_count": 1394,
   "id": "f8d5ae25-2a73-419d-abb8-4a4ac945341e",
   "metadata": {},
   "outputs": [],
   "source": [
    "import pandas as pd\n",
    "import numpy as np\n",
    "import seaborn as sns\n",
    "import matplotlib.pyplot as plt"
   ]
  },
  {
   "cell_type": "code",
   "execution_count": 1396,
   "id": "a71c52ac-b2df-4019-85f7-54ea25eac693",
   "metadata": {},
   "outputs": [],
   "source": [
    "df = pd.read_csv('loans_full_schema.csv')"
   ]
  },
  {
   "cell_type": "code",
   "execution_count": 1398,
   "id": "90ea01df-eba4-4c86-a84d-218d2b0e2ad4",
   "metadata": {},
   "outputs": [
    {
     "data": {
      "text/html": [
       "<div>\n",
       "<style scoped>\n",
       "    .dataframe tbody tr th:only-of-type {\n",
       "        vertical-align: middle;\n",
       "    }\n",
       "\n",
       "    .dataframe tbody tr th {\n",
       "        vertical-align: top;\n",
       "    }\n",
       "\n",
       "    .dataframe thead th {\n",
       "        text-align: right;\n",
       "    }\n",
       "</style>\n",
       "<table border=\"1\" class=\"dataframe\">\n",
       "  <thead>\n",
       "    <tr style=\"text-align: right;\">\n",
       "      <th></th>\n",
       "      <th>emp_title</th>\n",
       "      <th>emp_length</th>\n",
       "      <th>state</th>\n",
       "      <th>homeownership</th>\n",
       "      <th>annual_income</th>\n",
       "      <th>verified_income</th>\n",
       "      <th>debt_to_income</th>\n",
       "      <th>annual_income_joint</th>\n",
       "      <th>verification_income_joint</th>\n",
       "      <th>debt_to_income_joint</th>\n",
       "      <th>...</th>\n",
       "      <th>sub_grade</th>\n",
       "      <th>issue_month</th>\n",
       "      <th>loan_status</th>\n",
       "      <th>initial_listing_status</th>\n",
       "      <th>disbursement_method</th>\n",
       "      <th>balance</th>\n",
       "      <th>paid_total</th>\n",
       "      <th>paid_principal</th>\n",
       "      <th>paid_interest</th>\n",
       "      <th>paid_late_fees</th>\n",
       "    </tr>\n",
       "  </thead>\n",
       "  <tbody>\n",
       "    <tr>\n",
       "      <th>0</th>\n",
       "      <td>global config engineer</td>\n",
       "      <td>3.0</td>\n",
       "      <td>NJ</td>\n",
       "      <td>MORTGAGE</td>\n",
       "      <td>90000.0</td>\n",
       "      <td>Verified</td>\n",
       "      <td>18.01</td>\n",
       "      <td>NaN</td>\n",
       "      <td>NaN</td>\n",
       "      <td>NaN</td>\n",
       "      <td>...</td>\n",
       "      <td>C3</td>\n",
       "      <td>Mar-2018</td>\n",
       "      <td>Current</td>\n",
       "      <td>whole</td>\n",
       "      <td>Cash</td>\n",
       "      <td>27015.86</td>\n",
       "      <td>1999.33</td>\n",
       "      <td>984.14</td>\n",
       "      <td>1015.19</td>\n",
       "      <td>0.0</td>\n",
       "    </tr>\n",
       "    <tr>\n",
       "      <th>1</th>\n",
       "      <td>warehouse office clerk</td>\n",
       "      <td>10.0</td>\n",
       "      <td>HI</td>\n",
       "      <td>RENT</td>\n",
       "      <td>40000.0</td>\n",
       "      <td>Not Verified</td>\n",
       "      <td>5.04</td>\n",
       "      <td>NaN</td>\n",
       "      <td>NaN</td>\n",
       "      <td>NaN</td>\n",
       "      <td>...</td>\n",
       "      <td>C1</td>\n",
       "      <td>Feb-2018</td>\n",
       "      <td>Current</td>\n",
       "      <td>whole</td>\n",
       "      <td>Cash</td>\n",
       "      <td>4651.37</td>\n",
       "      <td>499.12</td>\n",
       "      <td>348.63</td>\n",
       "      <td>150.49</td>\n",
       "      <td>0.0</td>\n",
       "    </tr>\n",
       "    <tr>\n",
       "      <th>2</th>\n",
       "      <td>assembly</td>\n",
       "      <td>3.0</td>\n",
       "      <td>WI</td>\n",
       "      <td>RENT</td>\n",
       "      <td>40000.0</td>\n",
       "      <td>Source Verified</td>\n",
       "      <td>21.15</td>\n",
       "      <td>NaN</td>\n",
       "      <td>NaN</td>\n",
       "      <td>NaN</td>\n",
       "      <td>...</td>\n",
       "      <td>D1</td>\n",
       "      <td>Feb-2018</td>\n",
       "      <td>Current</td>\n",
       "      <td>fractional</td>\n",
       "      <td>Cash</td>\n",
       "      <td>1824.63</td>\n",
       "      <td>281.80</td>\n",
       "      <td>175.37</td>\n",
       "      <td>106.43</td>\n",
       "      <td>0.0</td>\n",
       "    </tr>\n",
       "    <tr>\n",
       "      <th>3</th>\n",
       "      <td>customer service</td>\n",
       "      <td>1.0</td>\n",
       "      <td>PA</td>\n",
       "      <td>RENT</td>\n",
       "      <td>30000.0</td>\n",
       "      <td>Not Verified</td>\n",
       "      <td>10.16</td>\n",
       "      <td>NaN</td>\n",
       "      <td>NaN</td>\n",
       "      <td>NaN</td>\n",
       "      <td>...</td>\n",
       "      <td>A3</td>\n",
       "      <td>Jan-2018</td>\n",
       "      <td>Current</td>\n",
       "      <td>whole</td>\n",
       "      <td>Cash</td>\n",
       "      <td>18853.26</td>\n",
       "      <td>3312.89</td>\n",
       "      <td>2746.74</td>\n",
       "      <td>566.15</td>\n",
       "      <td>0.0</td>\n",
       "    </tr>\n",
       "    <tr>\n",
       "      <th>4</th>\n",
       "      <td>security supervisor</td>\n",
       "      <td>10.0</td>\n",
       "      <td>CA</td>\n",
       "      <td>RENT</td>\n",
       "      <td>35000.0</td>\n",
       "      <td>Verified</td>\n",
       "      <td>57.96</td>\n",
       "      <td>57000.0</td>\n",
       "      <td>Verified</td>\n",
       "      <td>37.66</td>\n",
       "      <td>...</td>\n",
       "      <td>C3</td>\n",
       "      <td>Mar-2018</td>\n",
       "      <td>Current</td>\n",
       "      <td>whole</td>\n",
       "      <td>Cash</td>\n",
       "      <td>21430.15</td>\n",
       "      <td>2324.65</td>\n",
       "      <td>1569.85</td>\n",
       "      <td>754.80</td>\n",
       "      <td>0.0</td>\n",
       "    </tr>\n",
       "  </tbody>\n",
       "</table>\n",
       "<p>5 rows × 55 columns</p>\n",
       "</div>"
      ],
      "text/plain": [
       "                 emp_title  emp_length state homeownership  annual_income  \\\n",
       "0  global config engineer          3.0    NJ      MORTGAGE        90000.0   \n",
       "1   warehouse office clerk        10.0    HI          RENT        40000.0   \n",
       "2                 assembly         3.0    WI          RENT        40000.0   \n",
       "3         customer service         1.0    PA          RENT        30000.0   \n",
       "4     security supervisor         10.0    CA          RENT        35000.0   \n",
       "\n",
       "   verified_income  debt_to_income  annual_income_joint  \\\n",
       "0         Verified           18.01                  NaN   \n",
       "1     Not Verified            5.04                  NaN   \n",
       "2  Source Verified           21.15                  NaN   \n",
       "3     Not Verified           10.16                  NaN   \n",
       "4         Verified           57.96              57000.0   \n",
       "\n",
       "  verification_income_joint  debt_to_income_joint  ...  sub_grade  \\\n",
       "0                       NaN                   NaN  ...         C3   \n",
       "1                       NaN                   NaN  ...         C1   \n",
       "2                       NaN                   NaN  ...         D1   \n",
       "3                       NaN                   NaN  ...         A3   \n",
       "4                  Verified                 37.66  ...         C3   \n",
       "\n",
       "   issue_month  loan_status  initial_listing_status  disbursement_method  \\\n",
       "0     Mar-2018      Current                   whole                 Cash   \n",
       "1     Feb-2018      Current                   whole                 Cash   \n",
       "2     Feb-2018      Current              fractional                 Cash   \n",
       "3     Jan-2018      Current                   whole                 Cash   \n",
       "4     Mar-2018      Current                   whole                 Cash   \n",
       "\n",
       "    balance  paid_total  paid_principal  paid_interest  paid_late_fees  \n",
       "0  27015.86     1999.33          984.14        1015.19             0.0  \n",
       "1   4651.37      499.12          348.63         150.49             0.0  \n",
       "2   1824.63      281.80          175.37         106.43             0.0  \n",
       "3  18853.26     3312.89         2746.74         566.15             0.0  \n",
       "4  21430.15     2324.65         1569.85         754.80             0.0  \n",
       "\n",
       "[5 rows x 55 columns]"
      ]
     },
     "execution_count": 1398,
     "metadata": {},
     "output_type": "execute_result"
    }
   ],
   "source": [
    "df.head()"
   ]
  },
  {
   "cell_type": "markdown",
   "id": "4d511c61-def7-4ed8-9d83-f6a64cc8095d",
   "metadata": {},
   "source": [
    "## 2.1 Data Cleaning"
   ]
  },
  {
   "cell_type": "code",
   "execution_count": 1401,
   "id": "54d74053-6533-4d7b-874a-c2fbb7f85ee3",
   "metadata": {},
   "outputs": [],
   "source": [
    "clean_df = df.copy()"
   ]
  },
  {
   "cell_type": "code",
   "execution_count": 1405,
   "id": "e5815041-3932-4f74-af6b-e4ae07726d06",
   "metadata": {},
   "outputs": [],
   "source": [
    "X = clean_df.drop(columns=['loan_status'])\n",
    "y = clean_df['loan_status']"
   ]
  },
  {
   "cell_type": "markdown",
   "id": "ac2196e7-26a9-4603-84e7-b3604220b713",
   "metadata": {},
   "source": [
    "### 2.2 Duplicate Values\n",
    "No preprocessing of duplicate values is required. "
   ]
  },
  {
   "cell_type": "code",
   "execution_count": 1408,
   "id": "6e0a33a3-b49f-4c4f-8f6c-63480e4df052",
   "metadata": {},
   "outputs": [
    {
     "data": {
      "text/plain": [
       "0"
      ]
     },
     "execution_count": 1408,
     "metadata": {},
     "output_type": "execute_result"
    }
   ],
   "source": [
    "X.duplicated().sum()"
   ]
  },
  {
   "cell_type": "markdown",
   "id": "280c7525-0cdf-4440-9c5a-17e0ca85d4de",
   "metadata": {},
   "source": [
    "### 2.3 Missing Values"
   ]
  },
  {
   "cell_type": "markdown",
   "id": "adbc5f1a-07bc-4003-83c1-c8f5830cc779",
   "metadata": {},
   "source": [
    "My strategy for handling the missing data is informed by the follow:\n",
    "1. Percentage of Missing Data: A higher percentage might lean towards dropping the column or more sophisticated imputation.\n",
    "\n",
    "2. Nature of the Column: Is it numerical or categorical? What does \"missing\" actually mean in the context of that specific variable?\n",
    "\n",
    "3. Importance to the Model: Is this column likely to be a strong predictor for your target variable (loan_status)?\n",
    "\n",
    "4. Assumptions about Missingness: Is the data Missing Completely At Random (MCAR), Missing At Random (MAR), or Missing Not At Random (MNAR)"
   ]
  },
  {
   "cell_type": "code",
   "execution_count": 1410,
   "id": "c9c1966e-537f-4d2c-9b86-50d1339e8ebd",
   "metadata": {},
   "outputs": [
    {
     "data": {
      "text/html": [
       "<div>\n",
       "<style scoped>\n",
       "    .dataframe tbody tr th:only-of-type {\n",
       "        vertical-align: middle;\n",
       "    }\n",
       "\n",
       "    .dataframe tbody tr th {\n",
       "        vertical-align: top;\n",
       "    }\n",
       "\n",
       "    .dataframe thead th {\n",
       "        text-align: right;\n",
       "    }\n",
       "</style>\n",
       "<table border=\"1\" class=\"dataframe\">\n",
       "  <thead>\n",
       "    <tr style=\"text-align: right;\">\n",
       "      <th></th>\n",
       "      <th>count</th>\n",
       "      <th>pct</th>\n",
       "    </tr>\n",
       "  </thead>\n",
       "  <tbody>\n",
       "    <tr>\n",
       "      <th>verification_income_joint</th>\n",
       "      <td>8545</td>\n",
       "      <td>85.45</td>\n",
       "    </tr>\n",
       "    <tr>\n",
       "      <th>debt_to_income_joint</th>\n",
       "      <td>8505</td>\n",
       "      <td>85.05</td>\n",
       "    </tr>\n",
       "    <tr>\n",
       "      <th>annual_income_joint</th>\n",
       "      <td>8505</td>\n",
       "      <td>85.05</td>\n",
       "    </tr>\n",
       "    <tr>\n",
       "      <th>months_since_90d_late</th>\n",
       "      <td>7715</td>\n",
       "      <td>77.15</td>\n",
       "    </tr>\n",
       "    <tr>\n",
       "      <th>months_since_last_delinq</th>\n",
       "      <td>5658</td>\n",
       "      <td>56.58</td>\n",
       "    </tr>\n",
       "    <tr>\n",
       "      <th>months_since_last_credit_inquiry</th>\n",
       "      <td>1271</td>\n",
       "      <td>12.71</td>\n",
       "    </tr>\n",
       "    <tr>\n",
       "      <th>emp_title</th>\n",
       "      <td>833</td>\n",
       "      <td>8.33</td>\n",
       "    </tr>\n",
       "    <tr>\n",
       "      <th>emp_length</th>\n",
       "      <td>817</td>\n",
       "      <td>8.17</td>\n",
       "    </tr>\n",
       "    <tr>\n",
       "      <th>num_accounts_120d_past_due</th>\n",
       "      <td>318</td>\n",
       "      <td>3.18</td>\n",
       "    </tr>\n",
       "    <tr>\n",
       "      <th>debt_to_income</th>\n",
       "      <td>24</td>\n",
       "      <td>0.24</td>\n",
       "    </tr>\n",
       "  </tbody>\n",
       "</table>\n",
       "</div>"
      ],
      "text/plain": [
       "                                  count    pct\n",
       "verification_income_joint          8545  85.45\n",
       "debt_to_income_joint               8505  85.05\n",
       "annual_income_joint                8505  85.05\n",
       "months_since_90d_late              7715  77.15\n",
       "months_since_last_delinq           5658  56.58\n",
       "months_since_last_credit_inquiry   1271  12.71\n",
       "emp_title                           833   8.33\n",
       "emp_length                          817   8.17\n",
       "num_accounts_120d_past_due          318   3.18\n",
       "debt_to_income                       24   0.24"
      ]
     },
     "execution_count": 1410,
     "metadata": {},
     "output_type": "execute_result"
    }
   ],
   "source": [
    "df_missing = X.isna().sum().to_frame().rename(columns={0: 'count'}).sort_values(by=['count'], ascending=False)\n",
    "df_missing['pct'] = round(df_missing['count'] / len(X) * 100, 3)\n",
    "missing_df = df_missing[df_missing['count'] > 0]\n",
    "missing_df"
   ]
  },
  {
   "cell_type": "markdown",
   "id": "16e33dde-9f8d-4671-ac83-8aa300ce3ae2",
   "metadata": {},
   "source": [
    "#### 2.3.1 Creating new column df[__is_joint_applicant__]"
   ]
  },
  {
   "cell_type": "markdown",
   "id": "ff00e950-5ec6-4f50-8bc4-3eb6f575f522",
   "metadata": {},
   "source": [
    "The \"joint\" columns [[`verification_income_joint`,`debt_to_income_joint`,`annual_income_joint`]] had a very high percentage of missing values. By creating is_joint_applicant, I've effectively transformed these missing values into meaningful information: if all three joint columns are missing, it strongly indicates an individual application, which is now explicitly represented by False (or 0). This avoids the need for complex imputation strategies for those specific columns if their primary purpose is just to flag joint applications."
   ]
  },
  {
   "cell_type": "code",
   "execution_count": 1414,
   "id": "4cf45e56-0e83-438c-befc-41c93a381376",
   "metadata": {},
   "outputs": [
    {
     "data": {
      "text/plain": [
       "is_joint_applicant\n",
       "0    0.8505\n",
       "1    0.1495\n",
       "Name: proportion, dtype: float64"
      ]
     },
     "execution_count": 1414,
     "metadata": {},
     "output_type": "execute_result"
    }
   ],
   "source": [
    "X['is_joint_applicant'] = X[['annual_income_joint', 'verification_income_joint', 'debt_to_income_joint']].notna().any(axis=1)\n",
    "X['is_joint_applicant'] = X['is_joint_applicant'].astype(int)\n",
    "X['is_joint_applicant'].value_counts(normalize=True)"
   ]
  },
  {
   "cell_type": "code",
   "execution_count": 1334,
   "id": "b67adc87-86de-401c-8786-8222c566f6e6",
   "metadata": {},
   "outputs": [],
   "source": [
    "X = X.drop(['verification_income_joint', 'debt_to_income_joint', 'annual_income_joint'], axis=1)"
   ]
  },
  {
   "cell_type": "code",
   "execution_count": 1335,
   "id": "6868ef77-a3c8-4070-b0e6-24054f54d11a",
   "metadata": {},
   "outputs": [
    {
     "data": {
      "text/plain": [
       "(10000, 53)"
      ]
     },
     "execution_count": 1335,
     "metadata": {},
     "output_type": "execute_result"
    }
   ],
   "source": [
    "X.shape"
   ]
  },
  {
   "cell_type": "markdown",
   "id": "78e765fb-1d79-4b45-b8da-6b9319d345c7",
   "metadata": {},
   "source": [
    "The `is_joint_applicant` column now effectively captures the core information needed from the \"joint\" columns: whether or not an applicant is joint. Given that fewer features mean a simpler model, faster training times, and fewer issues with multicollinearity I will now drop the original \"joint\" columns from the dataset."
   ]
  },
  {
   "cell_type": "markdown",
   "id": "e6d0f3d1-4aed-4fe8-a7c3-c94b7bb000f7",
   "metadata": {},
   "source": [
    "#### 2.3.2 emp_length"
   ]
  },
  {
   "cell_type": "code",
   "execution_count": 1338,
   "id": "7541d73b-f41d-4233-b541-e7cbd80e6d89",
   "metadata": {},
   "outputs": [
    {
     "data": {
      "text/plain": [
       "count    9183.000000\n",
       "mean        5.930306\n",
       "std         3.703734\n",
       "min         0.000000\n",
       "25%         2.000000\n",
       "50%         6.000000\n",
       "75%        10.000000\n",
       "max        10.000000\n",
       "Name: emp_length, dtype: float64"
      ]
     },
     "execution_count": 1338,
     "metadata": {},
     "output_type": "execute_result"
    }
   ],
   "source": [
    "clean_df['emp_length'].describe()"
   ]
  },
  {
   "cell_type": "code",
   "execution_count": 1339,
   "id": "170273b9-1d55-45eb-a266-d919d07f960b",
   "metadata": {},
   "outputs": [
    {
     "data": {
      "image/png": "[encoded data removed]",
      "text/plain": [
       "<Figure size 200x1000 with 2 Axes>"
      ]
     },
     "metadata": {},
     "output_type": "display_data"
    },
    {
     "name": "stdout",
     "output_type": "stream",
     "text": [
      "\n",
      "Correlation of 'emp_length' with other features:\n",
      "                                  emp_length\n",
      "annual_income                       0.096469\n",
      "debt_to_income                      0.026157\n",
      "delinq_2y                           0.008242\n",
      "months_since_last_delinq            0.028790\n",
      "earliest_credit_line               -0.234408\n",
      "inquiries_last_12m                  0.003753\n",
      "total_credit_lines                  0.133472\n",
      "open_credit_lines                   0.067415\n",
      "total_credit_limit                  0.147594\n",
      "total_credit_utilized               0.019694\n",
      "num_collections_last_12m           -0.015729\n",
      "num_historical_failed_to_pay        0.029997\n",
      "months_since_90d_late               0.077553\n",
      "current_accounts_delinq            -0.011075\n",
      "total_collection_amount_ever        0.007772\n",
      "current_installment_accounts       -0.099357\n",
      "accounts_opened_24m                 0.027457\n",
      "months_since_last_credit_inquiry    0.008758\n",
      "num_satisfactory_accounts           0.067049\n",
      "num_accounts_120d_past_due               NaN\n",
      "num_accounts_30d_past_due          -0.011075\n",
      "num_active_debit_accounts           0.082499\n",
      "total_debit_limit                   0.095866\n",
      "num_total_cc_accounts               0.160848\n",
      "num_open_cc_accounts                0.115429\n",
      "num_cc_carrying_balance             0.120279\n",
      "num_mort_accounts                   0.209962\n",
      "account_never_delinq_percent       -0.000228\n",
      "tax_liens                           0.018134\n",
      "public_record_bankrupt              0.030083\n",
      "loan_amount                         0.091255\n",
      "term                                0.056243\n",
      "interest_rate                      -0.029621\n",
      "installment                         0.075981\n",
      "balance                             0.086768\n",
      "paid_total                          0.024246\n",
      "paid_principal                      0.018153\n",
      "paid_interest                       0.049517\n",
      "paid_late_fees                      0.001851\n",
      "is_joint_applicant                  0.031796\n"
     ]
    }
   ],
   "source": [
    "numerical_df = clean_df.select_dtypes(include=[np.number])\n",
    "\n",
    "correlation_matrix = numerical_df.corr()\n",
    "emp_length_correlations = correlation_matrix[['emp_length']].drop('emp_length') \n",
    "\n",
    "plt.figure(figsize=(2, 10)) \n",
    "sns.heatmap(\n",
    "    emp_length_correlations,\n",
    "    annot=True,       # Show the correlation values on the heatmap\n",
    "    cmap='coolwarm',  # Color map (coolwarm is good for showing positive/negative correlations)\n",
    "    fmt=\".2f\",        # Format annotations to two decimal places\n",
    "    cbar=True,        # Show color bar\n",
    "    linewidths=0.5,   # Add lines between cells\n",
    "    linecolor='black' # Color of the lines\n",
    ")\n",
    "plt.title('Correlation of Employee Length with Other Features')\n",
    "plt.ylabel('Features')\n",
    "plt.xlabel('Employee Length')\n",
    "plt.yticks(rotation=0) # Keep y-axis labels horizontal for readability\n",
    "plt.show()\n",
    "\n",
    "# --- Optional: Print the correlation values directly ---\n",
    "print(\"\\nCorrelation of 'emp_length' with other features:\")\n",
    "print(emp_length_correlations)"
   ]
  },
  {
   "cell_type": "code",
   "execution_count": 1340,
   "id": "c498ebbb-cf13-4be0-8593-3f01cf0ed2ae",
   "metadata": {},
   "outputs": [
    {
     "name": "stdout",
     "output_type": "stream",
     "text": [
      "\n",
      "NaNs in emp_length before imputation: 817\n",
      "\n",
      "Top 3 features most correlated with 'emp_length': ['earliest_credit_line', 'num_mort_accounts', 'num_total_cc_accounts']\n"
     ]
    }
   ],
   "source": [
    "from sklearn.impute import KNNImputer\n",
    "from sklearn.preprocessing import StandardScaler\n",
    "\n",
    "print(\"\\nNaNs in emp_length before imputation:\", clean_df['emp_length'].isnull().sum())\n",
    "\n",
    "# --- 2. Identify Top 3 Correlated Features with 'emp_length' ---\n",
    "numerical_df = clean_df.select_dtypes(include=[np.number])\n",
    "correlation_matrix = numerical_df.corr()\n",
    "\n",
    "emp_length_correlations = correlation_matrix['emp_length'].drop('emp_length')\n",
    "top_3_correlated_features = emp_length_correlations.abs().nlargest(3).index.tolist()\n",
    "\n",
    "print(f\"\\nTop 3 features most correlated with 'emp_length': {top_3_correlated_features}\")"
   ]
  },
  {
   "cell_type": "code",
   "execution_count": 1341,
   "id": "8a53f73f-d82d-4a64-bf6b-746a184be461",
   "metadata": {},
   "outputs": [],
   "source": [
    "# --- 3. Prepare Data for Imputation ---\n",
    "# Select 'emp_length' and the top 3 correlated features\n",
    "features_for_imputation = top_3_correlated_features + ['emp_length']\n",
    "data_for_imputation = clean_df[features_for_imputation].copy()"
   ]
  },
  {
   "cell_type": "code",
   "execution_count": 1342,
   "id": "1e147308-70cc-42b8-8ed0-553295bba631",
   "metadata": {},
   "outputs": [
    {
     "name": "stdout",
     "output_type": "stream",
     "text": [
      "\n",
      "NaNs in emp_length after imputation: 0\n"
     ]
    }
   ],
   "source": [
    "# --- 4. Scale the Data ---\n",
    "scaler = StandardScaler()\n",
    "scaled_data = scaler.fit_transform(data_for_imputation)\n",
    "scaled_df = pd.DataFrame(scaled_data, columns=features_for_imputation, index=data_for_imputation.index)\n",
    "\n",
    "# --- 5. Apply KNN Imputation ---\n",
    "imputer = KNNImputer(n_neighbors=5, weights='uniform')\n",
    "imputed_scaled_data = imputer.fit_transform(scaled_df)\n",
    "imputed_scaled_df = pd.DataFrame(imputed_scaled_data, columns=features_for_imputation, index=data_for_imputation.index)\n",
    "\n",
    "# Inverse transform the imputed data to get original scale values\n",
    "imputed_original_scale_data = scaler.inverse_transform(imputed_scaled_df)\n",
    "\n",
    "# Convert back to DataFrame\n",
    "imputed_clean_df_part = pd.DataFrame(imputed_original_scale_data, columns=features_for_imputation, index=data_for_imputation.index)\n",
    "clean_df['emp_length'] = imputed_clean_df_part['emp_length']\n",
    "\n",
    "print(\"\\nNaNs in emp_length after imputation:\", clean_df['emp_length'].isnull().sum())"
   ]
  },
  {
   "cell_type": "markdown",
   "id": "11d1697e-67b4-4ebc-bff0-bb491ead8495",
   "metadata": {},
   "source": [
    "#### 2.3.3 num_accounts_120d_past_due"
   ]
  },
  {
   "cell_type": "code",
   "execution_count": 1344,
   "id": "9c8e561c-1cfd-49c9-b821-6a2036d9d41c",
   "metadata": {},
   "outputs": [
    {
     "data": {
      "text/plain": [
       "count    9682.0\n",
       "mean        0.0\n",
       "std         0.0\n",
       "min         0.0\n",
       "25%         0.0\n",
       "50%         0.0\n",
       "75%         0.0\n",
       "max         0.0\n",
       "Name: num_accounts_120d_past_due, dtype: float64"
      ]
     },
     "execution_count": 1344,
     "metadata": {},
     "output_type": "execute_result"
    }
   ],
   "source": [
    "clean_df['num_accounts_120d_past_due'].describe()"
   ]
  },
  {
   "cell_type": "code",
   "execution_count": 1345,
   "id": "4dae5b28-acb9-41f8-a3e0-8dddb160cda6",
   "metadata": {},
   "outputs": [],
   "source": [
    "clean_df = clean_df.drop('num_accounts_120d_past_due', axis=1)"
   ]
  },
  {
   "cell_type": "markdown",
   "id": "44449359-d201-4fcc-ad85-00189a95f8e6",
   "metadata": {},
   "source": [
    "#### 2.3.4 debt_to_income"
   ]
  },
  {
   "cell_type": "code",
   "execution_count": 1347,
   "id": "7c0c0b4f-a1ef-4f62-ba42-19955465b3c6",
   "metadata": {},
   "outputs": [
    {
     "data": {
      "text/plain": [
       "count    9976.000000\n",
       "mean       19.308192\n",
       "std        15.004851\n",
       "min         0.000000\n",
       "25%        11.057500\n",
       "50%        17.570000\n",
       "75%        25.002500\n",
       "max       469.090000\n",
       "Name: debt_to_income, dtype: float64"
      ]
     },
     "execution_count": 1347,
     "metadata": {},
     "output_type": "execute_result"
    }
   ],
   "source": [
    "df['debt_to_income'].describe()"
   ]
  },
  {
   "cell_type": "code",
   "execution_count": 1348,
   "id": "0ca9e0a2-b4f0-4a86-8cf8-d6e867549fae",
   "metadata": {},
   "outputs": [],
   "source": [
    "clean_df['debt_to_income'] = clean_df['debt_to_income'].fillna(clean_df['debt_to_income'].median())"
   ]
  },
  {
   "cell_type": "markdown",
   "id": "8d099fac-7b78-41a1-874b-254a4aa1e04a",
   "metadata": {},
   "source": [
    "#### 2.3.5 months_since_90d_late column"
   ]
  },
  {
   "cell_type": "markdown",
   "id": "14119400-7c60-4e74-b185-bb4df8ce1dab",
   "metadata": {},
   "source": [
    "#### Sentinel Values\n",
    "The column `months_since_90d_late` and `months_since_last_delinq` columns are missing 77.15% and 56.58% of their values respectively. It's highly probable that a missing value here means the individual has never been 90 days late or has never had a delinquency. I will impute with a value larger than the maximum observed value in the non-missing data allowing the model to distinguish between \"actual delinquency x months ago\" and \"never delinq.\""
   ]
  },
  {
   "cell_type": "code",
   "execution_count": 1351,
   "id": "e3647973-483e-433a-be64-5cf3870620fd",
   "metadata": {},
   "outputs": [
    {
     "data": {
      "text/plain": [
       "array([ 38.,  nan,  28.,  60.,  71.,  18.,  37.,   6.,  22.,  67.,  44.,\n",
       "        70.,  68., 102.,  80.,  42.,  49.,  43.,  15.,  34.,  36.,  58.,\n",
       "        19.,  59.,   5.,  62.,  47.,  23.,  53.,  24.,  39.,  26.,  45.,\n",
       "        66.,  51.,  32.,  55.,  73.,  64.,  21.,  76.,  79.,  63.,  82.,\n",
       "        27.,  69.,  50.,  72.,  41.,  54.,  74.,  75.,  30.,  57.,  16.,\n",
       "        46.,  31.,   8.,  17.,  35.,  33.,  65.,  78.,  12.,  52.,  48.,\n",
       "         7.,  13.,  40.,  81.,   9.,  61., 106.,  29.,  20.,  99., 113.,\n",
       "        25., 128.,   4.,  77.,  56.,  10.,  11.,  84.,  97.,   3.,  14.,\n",
       "        92., 112.,  88.,  91., 101., 115.,  89.,   2., 118., 109.,  87.,\n",
       "       100.,  96.,  85., 120., 107.,  90.,  83.,  98.])"
      ]
     },
     "execution_count": 1351,
     "metadata": {},
     "output_type": "execute_result"
    }
   ],
   "source": [
    "clean_df['months_since_90d_late'].unique()"
   ]
  },
  {
   "cell_type": "code",
   "execution_count": 1352,
   "id": "b3254eb3-7e90-4651-a9f4-bd27ac13dc0f",
   "metadata": {},
   "outputs": [
    {
     "data": {
      "text/plain": [
       "128.0"
      ]
     },
     "execution_count": 1352,
     "metadata": {},
     "output_type": "execute_result"
    }
   ],
   "source": [
    "clean_df['months_since_90d_late'].max()"
   ]
  },
  {
   "cell_type": "code",
   "execution_count": 1353,
   "id": "a0dc271e-7bd4-4cda-9be2-a28028e3d1df",
   "metadata": {},
   "outputs": [
    {
     "data": {
      "text/plain": [
       "999.0"
      ]
     },
     "execution_count": 1353,
     "metadata": {},
     "output_type": "execute_result"
    }
   ],
   "source": [
    "clean_df['months_since_90d_late'] = clean_df['months_since_90d_late'].fillna(999)\n",
    "clean_df['months_since_90d_late'].max()"
   ]
  },
  {
   "cell_type": "markdown",
   "id": "bce9a3d5-b5ea-4aa4-a1fe-9db753ef1552",
   "metadata": {},
   "source": [
    "#### 2.3.6 months_since_last_delinq column"
   ]
  },
  {
   "cell_type": "code",
   "execution_count": 1355,
   "id": "3cd453f2-38db-4dc9-9891-b9c997f6a82d",
   "metadata": {},
   "outputs": [
    {
     "data": {
      "text/plain": [
       "array([ 38.,  nan,  28.,   3.,  19.,  18.,  50.,  37.,  44.,   6.,  77.,\n",
       "        14.,  67.,  70.,  68.,  35.,  31., 102.,  80.,  61.,  26.,   7.,\n",
       "        49.,  43.,  15.,  75.,  27.,  34.,  56.,  36.,  48.,  58.,  59.,\n",
       "         5.,  62.,  22.,  47.,  78.,  10.,  53.,  24.,  39.,  45.,  12.,\n",
       "        32.,  25.,  29.,  55.,  63.,  81.,  16.,  21.,  33.,  79.,  60.,\n",
       "        82.,  69.,   4.,  66.,  52.,  20.,  30.,  41.,  57.,  64.,  11.,\n",
       "         1.,  71.,  23.,  13.,   8.,  72.,  17.,  51.,  74.,   9.,  46.,\n",
       "        54.,  65.,  42.,  83.,  76.,  73.,  99.,  40.,  84.,   2.,  91.,\n",
       "       101.,  89.,  87., 100.,  96., 109.,  88., 118., 106.,  98.])"
      ]
     },
     "execution_count": 1355,
     "metadata": {},
     "output_type": "execute_result"
    }
   ],
   "source": [
    "clean_df['months_since_last_delinq'].unique()"
   ]
  },
  {
   "cell_type": "code",
   "execution_count": 1356,
   "id": "7c0641d4-4552-4217-bd6a-46f07f174664",
   "metadata": {},
   "outputs": [
    {
     "data": {
      "text/plain": [
       "118.0"
      ]
     },
     "execution_count": 1356,
     "metadata": {},
     "output_type": "execute_result"
    }
   ],
   "source": [
    "clean_df['months_since_last_delinq'].max()"
   ]
  },
  {
   "cell_type": "code",
   "execution_count": 1357,
   "id": "0cc77d02-3a2a-42a0-8cae-b17e1649f61d",
   "metadata": {},
   "outputs": [
    {
     "data": {
      "text/plain": [
       "999.0"
      ]
     },
     "execution_count": 1357,
     "metadata": {},
     "output_type": "execute_result"
    }
   ],
   "source": [
    "clean_df['months_since_last_delinq'] = clean_df['months_since_last_delinq'].fillna(999)\n",
    "clean_df['months_since_last_delinq'].max()"
   ]
  },
  {
   "cell_type": "markdown",
   "id": "1cfa37b0-2d96-401e-886b-deed934ae0da",
   "metadata": {},
   "source": [
    "#### 2.3.7 months_since_last_credit_inquiry"
   ]
  },
  {
   "cell_type": "markdown",
   "id": "bb86dbd8-caf2-4eb8-9703-6df891d77d84",
   "metadata": {},
   "source": [
    "__Current__ and __Fully Paid__ have higher mean months_since_last_credit_inquiry values. This suggests that for loans that are actively being paid or have been fully paid off, the average time since their last credit inquiry is longer. This intuitively makes sense as stable borrowers might not need frequent new credit inquiries. __Charged Off__ , __Late (16-30 days)__,  __Late (31-120 days)__, and __In Grace Period__  generally show lower mean months_since_last_credit_inquiry values. This could indicate that borrowers who are struggling (late, in grace, or charged off) might have had more recent credit inquiries. This also makes sense as they might be seeking new credit or consolidating debt leading to more recent inquiries.\n",
    "* It is important to note that there is a class imbalance in the target variable `loan_status`. Because __Current__ has the largest number of samples, its mean (7.41) is statistically more robust and representative of that group. The means for the minority classes (like 'Charged Off', 'In Grace Period', 'Late') are derived from much smaller sample sizes."
   ]
  },
  {
   "cell_type": "code",
   "execution_count": 1360,
   "id": "10e98cad-bc79-4ff8-b24d-85d58241d902",
   "metadata": {},
   "outputs": [
    {
     "name": "stdout",
     "output_type": "stream",
     "text": [
      "\n",
      "Mean months_since_last_credit_inquiry by loan_status:\n"
     ]
    },
    {
     "data": {
      "text/plain": [
       "loan_status\n",
       "Current               7.414287\n",
       "Fully Paid            6.564356\n",
       "Late (16-30 days)     6.205882\n",
       "In Grace Period       5.887097\n",
       "Late (31-120 days)    5.295082\n",
       "Charged Off           2.571429\n",
       "Name: months_since_last_credit_inquiry, dtype: float64"
      ]
     },
     "execution_count": 1360,
     "metadata": {},
     "output_type": "execute_result"
    }
   ],
   "source": [
    "mean_inquiry_by_status = clean_df.groupby('loan_status')['months_since_last_credit_inquiry'].mean().sort_values(ascending=False)\n",
    "print(\"\\nMean months_since_last_credit_inquiry by loan_status:\")\n",
    "mean_inquiry_by_status"
   ]
  },
  {
   "cell_type": "code",
   "execution_count": 1361,
   "id": "81ce6550-cf28-4a02-a75e-7d3627ad3a47",
   "metadata": {},
   "outputs": [
    {
     "name": "stdout",
     "output_type": "stream",
     "text": [
      "\n",
      "Frequency of each value:\n"
     ]
    },
    {
     "data": {
      "text/plain": [
       "loan_status\n",
       "Current               9375\n",
       "Fully Paid             447\n",
       "In Grace Period         67\n",
       "Late (31-120 days)      66\n",
       "Late (16-30 days)       38\n",
       "Charged Off              7\n",
       "Name: count, dtype: int64"
      ]
     },
     "execution_count": 1361,
     "metadata": {},
     "output_type": "execute_result"
    }
   ],
   "source": [
    "print(\"\\nFrequency of each value:\")\n",
    "all_status_counts = clean_df['loan_status'].value_counts()\n",
    "all_status_counts"
   ]
  },
  {
   "cell_type": "code",
   "execution_count": 1362,
   "id": "5eef923f-f138-462e-8be2-7733cb20a94a",
   "metadata": {},
   "outputs": [
    {
     "data": {
      "text/plain": [
       "999.0"
      ]
     },
     "execution_count": 1362,
     "metadata": {},
     "output_type": "execute_result"
    }
   ],
   "source": [
    "clean_df['months_since_last_credit_inquiry'] = clean_df['months_since_last_credit_inquiry'].fillna(999)\n",
    "clean_df['months_since_last_credit_inquiry'].max()"
   ]
  },
  {
   "cell_type": "markdown",
   "id": "a6c8b696-4218-46d7-bfec-a814fc16de21",
   "metadata": {},
   "source": [
    "#### 2.3.8 emp_title\n",
    "\n",
    "__Strategy 1: Word2Vec__"
   ]
  },
  {
   "cell_type": "code",
   "execution_count": 1364,
   "id": "64a420cf-f831-4736-8c48-c7366e1c7da7",
   "metadata": {},
   "outputs": [],
   "source": [
    "import re\n",
    "from gensim.models import Word2Vec"
   ]
  },
  {
   "cell_type": "code",
   "execution_count": 1365,
   "id": "715e4b1b-85dc-4cf7-a8c9-fc7ee84453f1",
   "metadata": {},
   "outputs": [],
   "source": [
    "# --- Step 1: Preprocessing and Tokenization ---\n",
    "clean_df['emp_title_processed'] = clean_df['emp_title'].fillna('Unknown')\n",
    "\n",
    "# IMPORTANT: Apply the more robust tokenization function from previous examples\n",
    "def tokenize_job_title(title):\n",
    "    if pd.isna(title):\n",
    "        return [] # Return empty list for NaN/None titles\n",
    "    title = str(title).lower()\n",
    "    title = re.sub(r'[^a-z\\s]', '', title) # Remove special characters and numbers\n",
    "    words = [word for word in title.split() if word]\n",
    "    return words\n",
    "\n",
    "# Assign the tokenized lists to a new column in clean_df\n",
    "clean_df['tokenized_job_title'] = clean_df['emp_title_processed'].apply(tokenize_job_title)\n",
    "\n",
    "# The 'sentences' for Word2Vec are now directly from this new column\n",
    "sentences = clean_df['tokenized_job_title'].tolist()"
   ]
  },
  {
   "cell_type": "code",
   "execution_count": 1366,
   "id": "1cf33033-7fdc-4ac7-83ac-3d09a666d234",
   "metadata": {},
   "outputs": [
    {
     "name": "stdout",
     "output_type": "stream",
     "text": [
      "\n",
      "Vocabulary size: 2345 unique words\n"
     ]
    }
   ],
   "source": [
    "# --- Step 2: Train the Word2Vec Model ---\n",
    "model = Word2Vec(\n",
    "    sentences=sentences,\n",
    "    vector_size=100,      # Dimensionality of the embedding vectors (e.g., 50, 100, 200)\n",
    "    window=4,             # Context window size (how many words around the target word to consider)\n",
    "    min_count=1,          # Minimum frequency for a word to be included in the vocabulary\n",
    "    sg=0,                 # 1 for Skip-gram (better for infrequent words), 0 for CBOW\n",
    "    epochs=100,           # Number of training iterations\n",
    "    workers=4             # Number of CPU cores to use\n",
    ")\n",
    "\n",
    "print(f\"\\nVocabulary size: {len(model.wv.index_to_key)} unique words\")"
   ]
  },
  {
   "cell_type": "code",
   "execution_count": 1367,
   "id": "d626a8c1-38ea-40e2-b3f8-fadd9ef3b194",
   "metadata": {},
   "outputs": [],
   "source": [
    "# --- Step 3: Create Mapping and Helper Functions ---\n",
    "# Create a mapping from word to its embedding vector\n",
    "word_to_embedding = {word: model.wv[word] for word in model.wv.index_to_key}\n",
    "vector_dim = model.wv.vector_size\n",
    "\n",
    "# Function to get embedding for a single word, handling OOV\n",
    "def get_word_embedding(word, embedding_map, vector_size):\n",
    "    if word in embedding_map:\n",
    "        return embedding_map[word]\n",
    "    else:\n",
    "        # Handle out-of-vocabulary (OOV) words:\n",
    "        # Return a zero vector, or an average of all embeddings, or a dedicated <UNK> token embedding.\n",
    "        return [0.0] * vector_size\n",
    "\n",
    "# Function to get an aggregated embedding for an entire job title\n",
    "def get_job_title_embedding(tokenized_title_words, embedding_map, vector_size):\n",
    "    word_embeddings_list = []\n",
    "    for word in tokenized_title_words:\n",
    "        embedding = get_word_embedding(word, embedding_map, vector_size)\n",
    "        if any(x != 0.0 for x in embedding): # Only add if not an OOV zero vector\n",
    "            word_embeddings_list.append(embedding)\n",
    "\n",
    "    if not word_embeddings_list: # If the title was empty or all words were OOV\n",
    "        return [0.0] * vector_size\n",
    "    else:\n",
    "        # Aggregation Strategy: Mean Pooling (most common)\n",
    "        return list(np.mean(word_embeddings_list, axis=0))\n"
   ]
  },
  {
   "cell_type": "code",
   "execution_count": 1368,
   "id": "6c27fc47-5ed9-4f0a-8855-0c3978b3f18d",
   "metadata": {},
   "outputs": [
    {
     "name": "stdout",
     "output_type": "stream",
     "text": [
      "\n",
      "DataFrame with Job Title Embeddings:\n",
      "   emp_length state homeownership  annual_income  verified_income  \\\n",
      "0         3.0    NJ      MORTGAGE        90000.0         Verified   \n",
      "1        10.0    HI          RENT        40000.0     Not Verified   \n",
      "2         3.0    WI          RENT        40000.0  Source Verified   \n",
      "3         1.0    PA          RENT        30000.0     Not Verified   \n",
      "4        10.0    CA          RENT        35000.0         Verified   \n",
      "\n",
      "   debt_to_income  delinq_2y  months_since_last_delinq  earliest_credit_line  \\\n",
      "0           18.01          0                      38.0                  2001   \n",
      "1            5.04          0                     999.0                  1996   \n",
      "2           21.15          0                      28.0                  2006   \n",
      "3           10.16          0                     999.0                  2007   \n",
      "4           57.96          0                     999.0                  2008   \n",
      "\n",
      "   inquiries_last_12m  ...  job_embed_90  job_embed_91  job_embed_92  \\\n",
      "0                   6  ...      0.361466      0.322913     -0.356879   \n",
      "1                   1  ...      0.417262      0.148730      0.131740   \n",
      "2                   4  ...      0.254755      0.833799      0.316586   \n",
      "3                   0  ...      0.862604      0.730366      0.401796   \n",
      "4                   7  ...      0.780299      0.684382     -0.614886   \n",
      "\n",
      "   job_embed_93  job_embed_94  job_embed_95  job_embed_96  job_embed_97  \\\n",
      "0      0.136916      0.257468      0.378225      0.343869     -0.441062   \n",
      "1      0.161430      0.465514      0.381392     -0.247390     -0.769528   \n",
      "2      0.576330      0.254539      0.061582      0.359092      0.009634   \n",
      "3      0.445641      0.525770      0.407412      0.537697     -0.640763   \n",
      "4      0.553897      0.584419      0.084793      0.086763     -0.483289   \n",
      "\n",
      "   job_embed_98  job_embed_99  \n",
      "0     -0.349817      0.121325  \n",
      "1      0.089840      0.084696  \n",
      "2     -0.176995      0.178909  \n",
      "3      0.058338     -0.269104  \n",
      "4      0.070046      0.221141  \n",
      "\n",
      "[5 rows x 151 columns]\n",
      "Shape of encoded DataFrame: (10000, 151)\n"
     ]
    }
   ],
   "source": [
    "# --- Step 4: Apply Embeddings to DataFrame ---\n",
    "# Apply the aggregation function to your tokenized job titles column\n",
    "# Use clean_df consistently\n",
    "clean_df['job_title_embedding'] = clean_df['tokenized_job_title'].apply(\n",
    "    lambda x: get_job_title_embedding(x, word_to_embedding, vector_dim)\n",
    ")\n",
    "\n",
    "# Expand the list of embeddings into separate columns\n",
    "job_title_embedding_df = pd.DataFrame(\n",
    "    clean_df['job_title_embedding'].tolist(),\n",
    "    index=clean_df.index,\n",
    "    columns=[f'job_embed_{i}' for i in range(vector_dim)]\n",
    ")\n",
    "\n",
    "# Concatenate with your original DataFrame (clean_df),\n",
    "# dropping the original 'emp_title', 'emp_title_processed', 'tokenized_job_title', and 'job_title_embedding'\n",
    "# Keep 'employee_id' and 'some_other_feature'\n",
    "clean_df = pd.concat([\n",
    "    clean_df.drop(columns=['emp_title', 'emp_title_processed', 'tokenized_job_title', 'job_title_embedding']),\n",
    "    job_title_embedding_df\n",
    "], axis=1)\n",
    "\n",
    "print(\"\\nDataFrame with Job Title Embeddings:\")\n",
    "print(clean_df.head())\n",
    "print(f\"Shape of encoded DataFrame: {clean_df.shape}\")"
   ]
  },
  {
   "cell_type": "markdown",
   "id": "c9c75157-9c79-4fb0-945f-e98331d9f8eb",
   "metadata": {},
   "source": [
    "__Strategy 2: BERT__"
   ]
  },
  {
   "cell_type": "code",
   "execution_count": 1370,
   "id": "adca6acf-bac2-462d-9041-9cd900fb39a0",
   "metadata": {},
   "outputs": [
    {
     "data": {
      "text/plain": [
       "'\\nimport re\\nimport torch\\nfrom transformers import AutoTokenizer, AutoModel\\n\\n\\n# Basic cleaning (optional but good practice to remove unnecessary noise)\\ndef clean_job_title(title):\\n    if pd.isna(title):\\n        return \"\"\\n    title = str(title).lower()\\n    # Remove excessive whitespace, special characters might be kept or removed based on needs\\n    title = re.sub(r\\'\\\\s+\\', \\' \\', title).strip()\\n    return title\\n\\nclean_df[\\'cleaned_job_title\\'] = clean_df[\\'emp_title\\'].apply(clean_job_title)\\n\\n# The list of job titles to process\\njob_titles = clean_df[\\'cleaned_job_title\\'].tolist()\\nprint(\"Cleaned Job Titles for BERT:\")\\nfor i, title in enumerate(job_titles[:5]):\\n    print(f\"Row {i+1}: \\'{title}\\'\")\\n'"
      ]
     },
     "execution_count": 1370,
     "metadata": {},
     "output_type": "execute_result"
    }
   ],
   "source": [
    "'''\n",
    "import re\n",
    "import torch\n",
    "from transformers import AutoTokenizer, AutoModel\n",
    "\n",
    "\n",
    "# Basic cleaning (optional but good practice to remove unnecessary noise)\n",
    "def clean_job_title(title):\n",
    "    if pd.isna(title):\n",
    "        return \"\"\n",
    "    title = str(title).lower()\n",
    "    # Remove excessive whitespace, special characters might be kept or removed based on needs\n",
    "    title = re.sub(r'\\s+', ' ', title).strip()\n",
    "    return title\n",
    "\n",
    "clean_df['cleaned_job_title'] = clean_df['emp_title'].apply(clean_job_title)\n",
    "\n",
    "# The list of job titles to process\n",
    "job_titles = clean_df['cleaned_job_title'].tolist()\n",
    "print(\"Cleaned Job Titles for BERT:\")\n",
    "for i, title in enumerate(job_titles[:5]):\n",
    "    print(f\"Row {i+1}: '{title}'\")\n",
    "'''"
   ]
  },
  {
   "cell_type": "code",
   "execution_count": 1371,
   "id": "1035185f-76e9-45d0-93af-631332c265e9",
   "metadata": {},
   "outputs": [
    {
     "data": {
      "text/plain": [
       "'\\n# Choose a pre-trained BERT model\\nbert = \\'bert-base-uncased\\' # Or \\'bert-base-cased\\', \\'roberta-base\\', etc.\\n\\n# Load tokenizer and model\\ntokenizer = AutoTokenizer.from_pretrained(bert)\\nmodel = AutoModel.from_pretrained(bert)\\n\\n# Set the model to evaluation mode (important for inference)\\nmodel.eval()\\n\\n# Check if CUDA (GPU) is available and move model to GPU\\ndevice = torch.device(\\'cuda\\' if torch.cuda.is_available() else \\'cpu\\')\\nmodel.to(device)\\nprint(f\"\\nUsing device: {device}\")\\n'"
      ]
     },
     "execution_count": 1371,
     "metadata": {},
     "output_type": "execute_result"
    }
   ],
   "source": [
    "'''\n",
    "# Choose a pre-trained BERT model\n",
    "bert = 'bert-base-uncased' # Or 'bert-base-cased', 'roberta-base', etc.\n",
    "\n",
    "# Load tokenizer and model\n",
    "tokenizer = AutoTokenizer.from_pretrained(bert)\n",
    "model = AutoModel.from_pretrained(bert)\n",
    "\n",
    "# Set the model to evaluation mode (important for inference)\n",
    "model.eval()\n",
    "\n",
    "# Check if CUDA (GPU) is available and move model to GPU\n",
    "device = torch.device('cuda' if torch.cuda.is_available() else 'cpu')\n",
    "model.to(device)\n",
    "print(f\"\\nUsing device: {device}\")\n",
    "'''"
   ]
  },
  {
   "cell_type": "code",
   "execution_count": 1372,
   "id": "166018fd-6f3c-46e3-9223-a9fd05653e96",
   "metadata": {},
   "outputs": [
    {
     "data": {
      "text/plain": [
       "'\\ndef get_bert_embeddings(texts, tokenizer, model, device, max_length=128, batch_size=32):\\n    all_embeddings = []\\n    \\n    # Process in batches to manage memory and speed up\\n    for i in range(0, len(texts), batch_size):\\n        batch_texts = texts[i:i + batch_size]\\n        \\n        # Tokenize the batch\\n        encoded_input = tokenizer(\\n            batch_texts,\\n            padding=True,          # Pad sequences to the longest sequence in the batch\\n            truncation=True,       # Truncate sequences longer than max_length\\n            max_length=max_length, # Max sequence length\\n            return_tensors=\\'pt\\'    # Return PyTorch tensors\\n        )\\n        \\n        # Move inputs to the same device as the model\\n        input_ids = encoded_input[\\'input_ids\\'].to(device)\\n        attention_mask = encoded_input[\\'attention_mask\\'].to(device)\\n        \\n        with torch.no_grad(): # Disable gradient calculation for inference\\n            # Get model outputs (hidden states)\\n            # `last_hidden_state` is a tensor of shape (batch_size, sequence_length, hidden_size)\\n            # `pooler_output` is a tensor of shape (batch_size, hidden_size) and is the\\n            # representation of the [CLS] token, often used for sequence-level tasks.\\n            outputs = model(input_ids=input_ids, attention_mask=attention_mask)\\n            \\n            # --- Aggregation Strategy ---\\n            # Option 1: Use the [CLS] token\\'s embedding (pooler_output)\\n            # This is a common choice for getting a single sentence embedding\\n            batch_embeddings = outputs.pooler_output.cpu().numpy()\\n            \\n            # Option 2: Mean pooling of all token embeddings\\n            # This can sometimes be more robust than just the [CLS] token\\n            # token_embeddings = outputs.last_hidden_state # (batch_size, sequence_length, hidden_size)\\n            # input_mask_expanded = attention_mask.unsqueeze(-1).expand(token_embeddings.size()).float()\\n            # sum_embeddings = torch.sum(token_embeddings * input_mask_expanded, 1)\\n            # sum_mask = torch.clamp(input_mask_expanded.sum(1), min=1e-9)\\n            # batch_embeddings = (sum_embeddings / sum_mask).cpu().numpy()\\n            \\n            all_embeddings.extend(batch_embeddings)\\n            \\n    return all_embeddings\\n\\n# Generate embeddings for all job titles\\nbert_embeddings = get_bert_embeddings(\\n    job_titles,\\n    tokenizer,\\n    model,\\n    device,\\n    max_length=64, # Job titles are usually short, so a smaller max_length is fine\\n    batch_size=16  # Adjust based on your GPU memory and dataset size\\n)\\n\\nprint(f\"\\nGenerated {len(bert_embeddings)} embeddings, each with dimension: {len(bert_embeddings[0])}\")\\nprint(\"First embedding (first 5 values):\", bert_embeddings[0][:5])\\n'"
      ]
     },
     "execution_count": 1372,
     "metadata": {},
     "output_type": "execute_result"
    }
   ],
   "source": [
    "'''\n",
    "def get_bert_embeddings(texts, tokenizer, model, device, max_length=128, batch_size=32):\n",
    "    all_embeddings = []\n",
    "    \n",
    "    # Process in batches to manage memory and speed up\n",
    "    for i in range(0, len(texts), batch_size):\n",
    "        batch_texts = texts[i:i + batch_size]\n",
    "        \n",
    "        # Tokenize the batch\n",
    "        encoded_input = tokenizer(\n",
    "            batch_texts,\n",
    "            padding=True,          # Pad sequences to the longest sequence in the batch\n",
    "            truncation=True,       # Truncate sequences longer than max_length\n",
    "            max_length=max_length, # Max sequence length\n",
    "            return_tensors='pt'    # Return PyTorch tensors\n",
    "        )\n",
    "        \n",
    "        # Move inputs to the same device as the model\n",
    "        input_ids = encoded_input['input_ids'].to(device)\n",
    "        attention_mask = encoded_input['attention_mask'].to(device)\n",
    "        \n",
    "        with torch.no_grad(): # Disable gradient calculation for inference\n",
    "            # Get model outputs (hidden states)\n",
    "            # `last_hidden_state` is a tensor of shape (batch_size, sequence_length, hidden_size)\n",
    "            # `pooler_output` is a tensor of shape (batch_size, hidden_size) and is the\n",
    "            # representation of the [CLS] token, often used for sequence-level tasks.\n",
    "            outputs = model(input_ids=input_ids, attention_mask=attention_mask)\n",
    "            \n",
    "            # --- Aggregation Strategy ---\n",
    "            # Option 1: Use the [CLS] token's embedding (pooler_output)\n",
    "            # This is a common choice for getting a single sentence embedding\n",
    "            batch_embeddings = outputs.pooler_output.cpu().numpy()\n",
    "            \n",
    "            # Option 2: Mean pooling of all token embeddings\n",
    "            # This can sometimes be more robust than just the [CLS] token\n",
    "            # token_embeddings = outputs.last_hidden_state # (batch_size, sequence_length, hidden_size)\n",
    "            # input_mask_expanded = attention_mask.unsqueeze(-1).expand(token_embeddings.size()).float()\n",
    "            # sum_embeddings = torch.sum(token_embeddings * input_mask_expanded, 1)\n",
    "            # sum_mask = torch.clamp(input_mask_expanded.sum(1), min=1e-9)\n",
    "            # batch_embeddings = (sum_embeddings / sum_mask).cpu().numpy()\n",
    "            \n",
    "            all_embeddings.extend(batch_embeddings)\n",
    "            \n",
    "    return all_embeddings\n",
    "\n",
    "# Generate embeddings for all job titles\n",
    "bert_embeddings = get_bert_embeddings(\n",
    "    job_titles,\n",
    "    tokenizer,\n",
    "    model,\n",
    "    device,\n",
    "    max_length=64, # Job titles are usually short, so a smaller max_length is fine\n",
    "    batch_size=16  # Adjust based on your GPU memory and dataset size\n",
    ")\n",
    "\n",
    "print(f\"\\nGenerated {len(bert_embeddings)} embeddings, each with dimension: {len(bert_embeddings[0])}\")\n",
    "print(\"First embedding (first 5 values):\", bert_embeddings[0][:5])\n",
    "'''"
   ]
  },
  {
   "cell_type": "code",
   "execution_count": 1373,
   "id": "12b23d17-2def-4cf5-86ef-c73fe065b927",
   "metadata": {},
   "outputs": [
    {
     "data": {
      "text/plain": [
       "'\\n# Convert list of embeddings to a DataFrame\\nembedding_df = pd.DataFrame(bert_embeddings, index=df.index,\\n                            columns=[f\\'bert_embed_{i}\\' for i in range(len(bert_embeddings[0]))])\\n\\n# Concatenate with your original DataFrame, dropping the original text columns\\nclean_df_final = pd.concat([clean_df.drop(columns=[\\'emp_title\\', \\'cleaned_job_title\\']), embedding_df], axis=1)\\n\\nprint(\"\\nFinal DataFrame with BERT Embeddings:\")\\nprint(clean_df_final.head())\\nprint(f\"Shape of final DataFrame: {clean_df_final.shape}\")\\n'"
      ]
     },
     "execution_count": 1373,
     "metadata": {},
     "output_type": "execute_result"
    }
   ],
   "source": [
    "'''\n",
    "# Convert list of embeddings to a DataFrame\n",
    "embedding_df = pd.DataFrame(bert_embeddings, index=df.index,\n",
    "                            columns=[f'bert_embed_{i}' for i in range(len(bert_embeddings[0]))])\n",
    "\n",
    "# Concatenate with your original DataFrame, dropping the original text columns\n",
    "clean_df_final = pd.concat([clean_df.drop(columns=['emp_title', 'cleaned_job_title']), embedding_df], axis=1)\n",
    "\n",
    "print(\"\\nFinal DataFrame with BERT Embeddings:\")\n",
    "print(clean_df_final.head())\n",
    "print(f\"Shape of final DataFrame: {clean_df_final.shape}\")\n",
    "'''"
   ]
  },
  {
   "cell_type": "code",
   "execution_count": 1374,
   "id": "618d7a2e-8c62-4653-be8e-3ff0af9df36d",
   "metadata": {},
   "outputs": [
    {
     "name": "stdout",
     "output_type": "stream",
     "text": [
      "<class 'pandas.core.frame.DataFrame'>\n",
      "RangeIndex: 10000 entries, 0 to 9999\n",
      "Columns: 151 entries, emp_length to job_embed_99\n",
      "dtypes: float32(100), float64(14), int64(26), object(11)\n",
      "memory usage: 7.7+ MB\n"
     ]
    }
   ],
   "source": [
    "clean_df.info()"
   ]
  },
  {
   "cell_type": "code",
   "execution_count": 1390,
   "id": "2ead2182-d7ef-47cd-beae-b506cbe311ed",
   "metadata": {},
   "outputs": [],
   "source": [
    "ordinal_categories = [\n",
    "    # For 'grade'\n",
    "    ['A', 'B', 'C', 'D', 'E', 'F', 'G'],\n",
    "\n",
    "        'A1', 'A2', 'A3', 'A4', 'A5',\n",
    "        'B1', 'B2', 'B3', 'B4', 'B5',\n",
    "        'C1', 'C2', 'C3', 'C4', 'C5',\n",
    "        'D1', 'D2', 'D3', 'D4', 'D5',\n",
    "        'E1', 'E2', 'E3', 'E4', 'E5',\n",
    "        'F1', 'F2', 'F3', 'F4', 'F5',\n",
    "        'G1', 'G2', 'G3', 'G4', 'G5'\n",
    "    ]\n",
    "]\n",
    "\n",
    "\n",
    "# Instantiate the encoder\n",
    "ordinal_transformer = OrdinalEncoder(\n",
    "    categories=ordinal_categories,\n",
    "    handle_unknown='error', # Important: Handles any unexpected categories by assigning NaN\n",
    "\n",
    ")\n",
    "\n",
    "nominal_transformer = OneHotEncoder(\n",
    "    handle_unknown='ignore',\n",
    "    sparse_output=False\n",
    ")\n",
    "\n",
    "\n",
    "# Example usage (assuming 'grade' and 'sub_grade' are columns in your DataFrame X)\n",
    "X_train_ordinal_encoded = ordinal_transformer.fit_transform(clean_df[['grade', 'sub_grade']])\n"
   ]
  },
  {
   "cell_type": "code",
   "execution_count": 1392,
   "id": "2326dcbb-6f1c-434b-8ea4-dab94bda6a73",
   "metadata": {},
   "outputs": [],
   "source": [
    "X_train_nominal_encoded = nominal_transformer.fit_transform(clean_df[['state', 'verified_income', 'loan_purpose', 'application_type', 'issue_month','loan_status',\n",
    "                'initial_listing_status', 'disbursement_method','homeownership']])"
   ]
  },
  {
   "cell_type": "code",
   "execution_count": null,
   "id": "c4397e1e-dfff-4333-91eb-08c4c2c69a61",
   "metadata": {},
   "outputs": [],
   "source": []
  },
  {
   "cell_type": "markdown",
   "id": "4bd1111e-86ce-4aac-89aa-ccb0435e5278",
   "metadata": {},
   "source": [
    "## 3.0  Data Transformation"
   ]
  },
  {
   "cell_type": "code",
   "execution_count": 1382,
   "id": "dc3ff1f5-7961-4be6-97e2-1bc268f7d6f8",
   "metadata": {},
   "outputs": [],
   "source": [
    "from sklearn.preprocessing import (\n",
    "    StandardScaler, MinMaxScaler, RobustScaler,\n",
    "    OrdinalEncoder, OneHotEncoder, LabelEncoder\n",
    ")\n",
    "from sklearn.compose import ColumnTransformer\n",
    "from sklearn.pipeline import Pipeline\n",
    "import warnings\n",
    "warnings.filterwarnings('ignore')\n",
    "\n",
    "\n",
    "# Define column types\n",
    "features_df = clean_df.drop(columns=['loan_status'])\n",
    "numerical = features_df.select_dtypes(include=np.number).columns.tolist()\n",
    "\n",
    "nominal = ['state', 'verified_income', 'loan_purpose', 'application_type', 'issue_month','loan_status',\n",
    "                'initial_listing_status', 'disbursement_method','homeownership']\n",
    "ordinal = ['grade','sub_grade']\n",
    "passthrough = ['emp_title']\n",
    "\n",
    "\n",
    "# Define ordinal mappings (category order matters)\n",
    "ordinal_categories = [\n",
    "    ['A','B','C','D','E','F','G'], \n",
    "    ['A1','A2','A3','A4','A5',\n",
    "     'B1','B2','B3','B4','B5',\n",
    "     'C1','C2','C3','C4','C5',\n",
    "     'D1','D2','D3','D4','D5',\n",
    "     'E1','E2','E3','E4','E5',\n",
    "     'F1','F2','F3','F4','F5',\n",
    "     'G1','G2','G3','G4','G5'\n",
    "    ]\n",
    "]\n",
    "\n",
    "\n",
    "numerical_transformer = StandardScaler()\n",
    "\n",
    "ordinal_transformer = OrdinalEncoder(\n",
    "    categories=ordinal_categories,\n",
    "    handle_unknown='ignore'\n",
    ")\n",
    "\n",
    "nominal_transformer = OneHotEncoder(\n",
    "    handle_unknown='ignore',\n",
    "    sparse_output=False\n",
    ")\n",
    "\n",
    "\n",
    "preprocessor = ColumnTransformer(\n",
    "    transformers=[\n",
    "        ('num', numerical_transformer, numerical),\n",
    "        ('ord', ordinal_transformer, ordinal),\n",
    "        ('nom', nominal_transformer, nominal),\n",
    "        ('pass', 'passthrough', passthrough)\n",
    "    ],\n",
    "    remainder= 'passthrough'  # drop any remaining columns\n",
    ")\n",
    "\n",
    "\n",
    "pipeline = Pipeline(\n",
    "    steps = [\n",
    "        ('preprocessor',preprocessor)\n",
    "    ]\n",
    ")\n"
   ]
  },
  {
   "cell_type": "code",
   "execution_count": 1384,
   "id": "2c2d4f66-35e3-4059-bd77-3e638c339973",
   "metadata": {},
   "outputs": [
    {
     "ename": "ValueError",
     "evalue": "No valid specification of the columns. Only a scalar, list or slice of all integers or all strings, or boolean mask is allowed",
     "output_type": "error",
     "traceback": [
      "\u001b[0;31m---------------------------------------------------------------------------\u001b[0m",
      "\u001b[0;31mValueError\u001b[0m                                Traceback (most recent call last)",
      "Cell \u001b[0;32mIn[1384], line 2\u001b[0m\n\u001b[1;32m      1\u001b[0m \u001b[38;5;66;03m# Fit the preprocessor\u001b[39;00m\n\u001b[0;32m----> 2\u001b[0m preprocessor\u001b[38;5;241m.\u001b[39mfit(clean_df)\n\u001b[1;32m      3\u001b[0m \u001b[38;5;28mprint\u001b[39m(\u001b[38;5;124m\"\u001b[39m\u001b[38;5;124mPreprocessor fitted successfully!\u001b[39m\u001b[38;5;124m\"\u001b[39m)\n\u001b[1;32m      5\u001b[0m \u001b[38;5;66;03m# Transform the data\u001b[39;00m\n",
      "File \u001b[0;32m/opt/anaconda3/lib/python3.12/site-packages/sklearn/compose/_column_transformer.py:860\u001b[0m, in \u001b[0;36mColumnTransformer.fit\u001b[0;34m(self, X, y, **params)\u001b[0m\n\u001b[1;32m    857\u001b[0m _raise_for_params(params, \u001b[38;5;28mself\u001b[39m, \u001b[38;5;124m\"\u001b[39m\u001b[38;5;124mfit\u001b[39m\u001b[38;5;124m\"\u001b[39m)\n\u001b[1;32m    858\u001b[0m \u001b[38;5;66;03m# we use fit_transform to make sure to set sparse_output_ (for which we\u001b[39;00m\n\u001b[1;32m    859\u001b[0m \u001b[38;5;66;03m# need the transformed data) to have consistent output type in predict\u001b[39;00m\n\u001b[0;32m--> 860\u001b[0m \u001b[38;5;28mself\u001b[39m\u001b[38;5;241m.\u001b[39mfit_transform(X, y\u001b[38;5;241m=\u001b[39my, \u001b[38;5;241m*\u001b[39m\u001b[38;5;241m*\u001b[39mparams)\n\u001b[1;32m    861\u001b[0m \u001b[38;5;28;01mreturn\u001b[39;00m \u001b[38;5;28mself\u001b[39m\n",
      "File \u001b[0;32m/opt/anaconda3/lib/python3.12/site-packages/sklearn/utils/_set_output.py:295\u001b[0m, in \u001b[0;36m_wrap_method_output.<locals>.wrapped\u001b[0;34m(self, X, *args, **kwargs)\u001b[0m\n\u001b[1;32m    293\u001b[0m \u001b[38;5;129m@wraps\u001b[39m(f)\n\u001b[1;32m    294\u001b[0m \u001b[38;5;28;01mdef\u001b[39;00m \u001b[38;5;21mwrapped\u001b[39m(\u001b[38;5;28mself\u001b[39m, X, \u001b[38;5;241m*\u001b[39margs, \u001b[38;5;241m*\u001b[39m\u001b[38;5;241m*\u001b[39mkwargs):\n\u001b[0;32m--> 295\u001b[0m     data_to_wrap \u001b[38;5;241m=\u001b[39m f(\u001b[38;5;28mself\u001b[39m, X, \u001b[38;5;241m*\u001b[39margs, \u001b[38;5;241m*\u001b[39m\u001b[38;5;241m*\u001b[39mkwargs)\n\u001b[1;32m    296\u001b[0m     \u001b[38;5;28;01mif\u001b[39;00m \u001b[38;5;28misinstance\u001b[39m(data_to_wrap, \u001b[38;5;28mtuple\u001b[39m):\n\u001b[1;32m    297\u001b[0m         \u001b[38;5;66;03m# only wrap the first output for cross decomposition\u001b[39;00m\n\u001b[1;32m    298\u001b[0m         return_tuple \u001b[38;5;241m=\u001b[39m (\n\u001b[1;32m    299\u001b[0m             _wrap_data_with_container(method, data_to_wrap[\u001b[38;5;241m0\u001b[39m], X, \u001b[38;5;28mself\u001b[39m),\n\u001b[1;32m    300\u001b[0m             \u001b[38;5;241m*\u001b[39mdata_to_wrap[\u001b[38;5;241m1\u001b[39m:],\n\u001b[1;32m    301\u001b[0m         )\n",
      "File \u001b[0;32m/opt/anaconda3/lib/python3.12/site-packages/sklearn/base.py:1474\u001b[0m, in \u001b[0;36m_fit_context.<locals>.decorator.<locals>.wrapper\u001b[0;34m(estimator, *args, **kwargs)\u001b[0m\n\u001b[1;32m   1467\u001b[0m     estimator\u001b[38;5;241m.\u001b[39m_validate_params()\n\u001b[1;32m   1469\u001b[0m \u001b[38;5;28;01mwith\u001b[39;00m config_context(\n\u001b[1;32m   1470\u001b[0m     skip_parameter_validation\u001b[38;5;241m=\u001b[39m(\n\u001b[1;32m   1471\u001b[0m         prefer_skip_nested_validation \u001b[38;5;129;01mor\u001b[39;00m global_skip_validation\n\u001b[1;32m   1472\u001b[0m     )\n\u001b[1;32m   1473\u001b[0m ):\n\u001b[0;32m-> 1474\u001b[0m     \u001b[38;5;28;01mreturn\u001b[39;00m fit_method(estimator, \u001b[38;5;241m*\u001b[39margs, \u001b[38;5;241m*\u001b[39m\u001b[38;5;241m*\u001b[39mkwargs)\n",
      "File \u001b[0;32m/opt/anaconda3/lib/python3.12/site-packages/sklearn/compose/_column_transformer.py:906\u001b[0m, in \u001b[0;36mColumnTransformer.fit_transform\u001b[0;34m(self, X, y, **params)\u001b[0m\n\u001b[1;32m    903\u001b[0m \u001b[38;5;28mself\u001b[39m\u001b[38;5;241m.\u001b[39m_validate_transformers()\n\u001b[1;32m    904\u001b[0m n_samples \u001b[38;5;241m=\u001b[39m _num_samples(X)\n\u001b[0;32m--> 906\u001b[0m \u001b[38;5;28mself\u001b[39m\u001b[38;5;241m.\u001b[39m_validate_column_callables(X)\n\u001b[1;32m    907\u001b[0m \u001b[38;5;28mself\u001b[39m\u001b[38;5;241m.\u001b[39m_validate_remainder(X)\n\u001b[1;32m    909\u001b[0m \u001b[38;5;28;01mif\u001b[39;00m _routing_enabled():\n",
      "File \u001b[0;32m/opt/anaconda3/lib/python3.12/site-packages/sklearn/compose/_column_transformer.py:496\u001b[0m, in \u001b[0;36mColumnTransformer._validate_column_callables\u001b[0;34m(self, X)\u001b[0m\n\u001b[1;32m    494\u001b[0m         columns \u001b[38;5;241m=\u001b[39m columns(X)\n\u001b[1;32m    495\u001b[0m     all_columns\u001b[38;5;241m.\u001b[39mappend(columns)\n\u001b[0;32m--> 496\u001b[0m     transformer_to_input_indices[name] \u001b[38;5;241m=\u001b[39m _get_column_indices(X, columns)\n\u001b[1;32m    498\u001b[0m \u001b[38;5;28mself\u001b[39m\u001b[38;5;241m.\u001b[39m_columns \u001b[38;5;241m=\u001b[39m all_columns\n\u001b[1;32m    499\u001b[0m \u001b[38;5;28mself\u001b[39m\u001b[38;5;241m.\u001b[39m_transformer_to_input_indices \u001b[38;5;241m=\u001b[39m transformer_to_input_indices\n",
      "File \u001b[0;32m/opt/anaconda3/lib/python3.12/site-packages/sklearn/utils/__init__.py:470\u001b[0m, in \u001b[0;36m_get_column_indices\u001b[0;34m(X, key)\u001b[0m\n\u001b[1;32m    464\u001b[0m \u001b[38;5;28;01mdef\u001b[39;00m \u001b[38;5;21m_get_column_indices\u001b[39m(X, key):\n\u001b[1;32m    465\u001b[0m \u001b[38;5;250m    \u001b[39m\u001b[38;5;124;03m\"\"\"Get feature column indices for input data X and key.\u001b[39;00m\n\u001b[1;32m    466\u001b[0m \n\u001b[1;32m    467\u001b[0m \u001b[38;5;124;03m    For accepted values of `key`, see the docstring of\u001b[39;00m\n\u001b[1;32m    468\u001b[0m \u001b[38;5;124;03m    :func:`_safe_indexing`.\u001b[39;00m\n\u001b[1;32m    469\u001b[0m \u001b[38;5;124;03m    \"\"\"\u001b[39;00m\n\u001b[0;32m--> 470\u001b[0m     key_dtype \u001b[38;5;241m=\u001b[39m _determine_key_type(key)\n\u001b[1;32m    471\u001b[0m     \u001b[38;5;28;01mif\u001b[39;00m _use_interchange_protocol(X):\n\u001b[1;32m    472\u001b[0m         \u001b[38;5;28;01mreturn\u001b[39;00m _get_column_indices_interchange(X\u001b[38;5;241m.\u001b[39m__dataframe__(), key, key_dtype)\n",
      "File \u001b[0;32m/opt/anaconda3/lib/python3.12/site-packages/sklearn/utils/__init__.py:317\u001b[0m, in \u001b[0;36m_determine_key_type\u001b[0;34m(key, accept_slice)\u001b[0m\n\u001b[1;32m    315\u001b[0m     \u001b[38;5;28;01mexcept\u001b[39;00m \u001b[38;5;167;01mKeyError\u001b[39;00m:\n\u001b[1;32m    316\u001b[0m         \u001b[38;5;28;01mraise\u001b[39;00m \u001b[38;5;167;01mValueError\u001b[39;00m(err_msg)\n\u001b[0;32m--> 317\u001b[0m \u001b[38;5;28;01mraise\u001b[39;00m \u001b[38;5;167;01mValueError\u001b[39;00m(err_msg)\n",
      "\u001b[0;31mValueError\u001b[0m: No valid specification of the columns. Only a scalar, list or slice of all integers or all strings, or boolean mask is allowed"
     ]
    }
   ],
   "source": [
    "# Fit the preprocessor\n",
    "preprocessor.fit(clean_df)\n",
    "print(\"Preprocessor fitted successfully!\")\n",
    "\n",
    "# Transform the data\n",
    "df_transformed = preprocessor.transform(df)\n",
    "print(f\"Data transformed! New shape: {df_transformed.shape}\")\n",
    "\n",
    "# Generate feature names for the transformed data\n",
    "feature_names = []\n",
    "\n",
    "# Add numerical feature names\n",
    "feature_names.extend(numerical_cols)\n",
    "\n",
    "# Add ordinal feature names\n",
    "feature_names.extend(ordinal_cols)\n",
    "\n",
    "# Add nominal feature names (one-hot encoded)\n",
    "nom_feature_names = preprocessor.named_transformers_['nom'].get_feature_names_out(nominal_cols)\n",
    "feature_names.extend(nom_feature_names)\n",
    "\n",
    "# Convert to DataFrame with proper column names\n",
    "df_final = pd.DataFrame(df_transformed, columns=feature_names, index=df.index)\n",
    "\n",
    "print(f\"\\nFinal feature names ({len(feature_names)} total):\")\n",
    "for i, name in enumerate(feature_names, 1):\n",
    "    print(f\"  {i:2d}. {name}\")\n",
    "\n",
    "print(f\"\\nTransformed data preview:\")\n",
    "print(df_final.head())\n",
    "\n",
    "print(f\"\\nTransformed data statistics:\")\n",
    "print(df_final.describe())\n",
    "\n",
    "'''\n",
    "# Verify transformations\n",
    "print(\"\\n\" + \"=\"*60)\n",
    "print(\"TRANSFORMATION VERIFICATION\")\n",
    "print(\"=\"*60)\n",
    "\n",
    "# Check numerical features (should be standardized - mean~0, std~1)\n",
    "print(\"Numerical features after standardization:\")\n",
    "for col in numerical_cols:\n",
    "    mean_val = df_final[col].mean()\n",
    "    std_val = df_final[col].std()\n",
    "    print(f\"  {col}: mean={mean_val:.6f}, std={std_val:.6f}\")\n",
    "\n",
    "# Check ordinal features (should be integers representing order)\n",
    "print(f\"\\nOrdinal features after encoding:\")\n",
    "for col in ordinal_cols:\n",
    "    unique_vals = sorted(df_final[col].unique())\n",
    "    print(f\"  {col}: encoded values = {unique_vals}\")\n",
    "\n",
    "# Check nominal features (should be binary 0/1 for one-hot)\n",
    "print(f\"\\nNominal features after one-hot encoding:\")\n",
    "nom_columns = [col for col in df_final.columns if any(nom_col in col for nom_col in nominal_cols)]\n",
    "print(f\"  Created {len(nom_columns)} binary columns from {len(nominal_cols)} nominal features\")\n",
    "\n",
    "\n",
    "'''\n",
    "'''\n",
    "# Create alternative pipeline configurations\n",
    "print(\"\\n\" + \"=\"*60)\n",
    "print(\"ALTERNATIVE CONFIGURATIONS\")\n",
    "print(\"=\"*60)\n",
    "\n",
    "# Configuration 2: MinMax scaling + Label encoding for nominals\n",
    "print(\"Configuration 2: MinMax + Label Encoding\")\n",
    "preprocessor2 = ColumnTransformer(\n",
    "    transformers=[\n",
    "        ('num', MinMaxScaler(), numerical_cols),\n",
    "        ('ord', ordinal_transformer, ordinal_cols),\n",
    "        ('nom', LabelEncoder(), nominal_cols[0])  # LabelEncoder works on single column\n",
    "    ],\n",
    "    remainder='drop'\n",
    ")\n",
    "\n",
    "# For multiple nominal columns with LabelEncoder, we need separate transformers\n",
    "label_transformers = []\n",
    "for i, col in enumerate(nominal_cols):\n",
    "    label_transformers.append((f'nom_{i}', LabelEncoder(), [col]))\n",
    "\n",
    "preprocessor2_full = ColumnTransformer(\n",
    "    transformers=[\n",
    "        ('num', MinMaxScaler(), numerical_cols),\n",
    "        ('ord', ordinal_transformer, ordinal_cols)\n",
    "    ] + label_transformers,\n",
    "    remainder='drop'\n",
    ")\n",
    "\n",
    "df_transformed2 = preprocessor2_full.fit_transform(df)\n",
    "print(f\"  Shape with MinMax + Label: {df_transformed2.shape}\")\n",
    "\n",
    "# Configuration 3: Robust scaling\n",
    "print(\"Configuration 3: Robust Scaling + OneHot\")\n",
    "preprocessor3 = ColumnTransformer(\n",
    "    transformers=[\n",
    "        ('num', RobustScaler(), numerical_cols),\n",
    "        ('ord', ordinal_transformer, ordinal_cols),\n",
    "        ('nom', OneHotEncoder(handle_unknown='ignore', sparse_output=False), nominal_cols)\n",
    "    ],\n",
    "    remainder='drop'\n",
    ")\n",
    "\n",
    "df_transformed3 = preprocessor3.fit_transform(df)\n",
    "print(f\"  Shape with Robust + OneHot: {df_transformed3.shape}\")\n",
    "\n",
    "print(\"\\n\" + \"=\"*60)\n",
    "print(\"PIPELINE COMPLETE\")\n",
    "print(\"=\"*60)\n",
    "print(f\"Original data: {df.shape}\")\n",
    "print(f\"Final transformed data: {df_final.shape}\")\n",
    "print(\"✓ Numerical features: normalized/scaled\")\n",
    "print(\"✓ Ordinal features: properly encoded with order preserved\")\n",
    "print(\"✓ Nominal features: one-hot encoded\")\n",
    "print(\"✓ Ready for machine learning!\")\n",
    "\n",
    "# Save the results (optional)\n",
    "# df_final.to_csv('preprocessed_data.csv', index=False)\n",
    "# print(\"Preprocessed data saved to 'preprocessed_data.csv'\")\n",
    "'''"
   ]
  },
  {
   "cell_type": "code",
   "execution_count": null,
   "id": "72793d16-3d34-4daf-b6a1-204799eebe39",
   "metadata": {},
   "outputs": [],
   "source": []
  }
 ],
 "metadata": {
  "kernelspec": {
   "display_name": "Python 3 (ipykernel)",
   "language": "python",
   "name": "python3"
  },
  "language_info": {
   "codemirror_mode": {
    "name": "ipython",
    "version": 3
   },
   "file_extension": ".py",
   "mimetype": "text/x-python",
   "name": "python",
   "nbconvert_exporter": "python",
   "pygments_lexer": "ipython3",
   "version": "3.12.4"
  }
 },
 "nbformat": 4,
 "nbformat_minor": 5
}
